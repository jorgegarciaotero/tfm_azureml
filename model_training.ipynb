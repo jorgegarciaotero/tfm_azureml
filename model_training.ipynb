{
  "cells": [
    {
      "cell_type": "code",
      "source": [
        "!pip install adlfs\n",
        "!pip install keras-tuner --quiet\n"
      ],
      "outputs": [
        {
          "output_type": "stream",
          "name": "stdout",
          "text": "Requirement already satisfied: adlfs in /anaconda/envs/azureml_py38/lib/python3.10/site-packages (2024.12.0)\r\nRequirement already satisfied: azure-storage-blob>=12.17.0 in /anaconda/envs/azureml_py38/lib/python3.10/site-packages (from adlfs) (12.25.1)\r\nRequirement already satisfied: azure-identity in /anaconda/envs/azureml_py38/lib/python3.10/site-packages (from adlfs) (1.23.0)\r\nRequirement already satisfied: aiohttp>=3.7.0 in /anaconda/envs/azureml_py38/lib/python3.10/site-packages (from adlfs) (3.11.16)\r\nRequirement already satisfied: fsspec>=2023.12.0 in /anaconda/envs/azureml_py38/lib/python3.10/site-packages (from adlfs) (2025.5.1)\r\nRequirement already satisfied: azure-core<2.0.0,>=1.28.0 in /anaconda/envs/azureml_py38/lib/python3.10/site-packages (from adlfs) (1.33.0)\r\nRequirement already satisfied: azure-datalake-store<0.1,>=0.0.53 in /anaconda/envs/azureml_py38/lib/python3.10/site-packages (from adlfs) (0.0.53)\r\nRequirement already satisfied: attrs>=17.3.0 in /anaconda/envs/azureml_py38/lib/python3.10/site-packages (from aiohttp>=3.7.0->adlfs) (25.3.0)\r\nRequirement already satisfied: frozenlist>=1.1.1 in /anaconda/envs/azureml_py38/lib/python3.10/site-packages (from aiohttp>=3.7.0->adlfs) (1.5.0)\r\nRequirement already satisfied: multidict<7.0,>=4.5 in /anaconda/envs/azureml_py38/lib/python3.10/site-packages (from aiohttp>=3.7.0->adlfs) (6.4.3)\r\nRequirement already satisfied: propcache>=0.2.0 in /anaconda/envs/azureml_py38/lib/python3.10/site-packages (from aiohttp>=3.7.0->adlfs) (0.3.1)\r\nRequirement already satisfied: aiosignal>=1.1.2 in /anaconda/envs/azureml_py38/lib/python3.10/site-packages (from aiohttp>=3.7.0->adlfs) (1.3.2)\r\nRequirement already satisfied: yarl<2.0,>=1.17.0 in /anaconda/envs/azureml_py38/lib/python3.10/site-packages (from aiohttp>=3.7.0->adlfs) (1.19.0)\r\nRequirement already satisfied: async-timeout<6.0,>=4.0 in /anaconda/envs/azureml_py38/lib/python3.10/site-packages (from aiohttp>=3.7.0->adlfs) (5.0.1)\r\nRequirement already satisfied: aiohappyeyeballs>=2.3.0 in /anaconda/envs/azureml_py38/lib/python3.10/site-packages (from aiohttp>=3.7.0->adlfs) (2.6.1)\r\nRequirement already satisfied: typing-extensions>=4.6.0 in /anaconda/envs/azureml_py38/lib/python3.10/site-packages (from azure-core<2.0.0,>=1.28.0->adlfs) (4.13.2)\r\nRequirement already satisfied: six>=1.11.0 in /anaconda/envs/azureml_py38/lib/python3.10/site-packages (from azure-core<2.0.0,>=1.28.0->adlfs) (1.17.0)\r\nRequirement already satisfied: requests>=2.21.0 in /anaconda/envs/azureml_py38/lib/python3.10/site-packages (from azure-core<2.0.0,>=1.28.0->adlfs) (2.32.3)\r\nRequirement already satisfied: cffi in /anaconda/envs/azureml_py38/lib/python3.10/site-packages (from azure-datalake-store<0.1,>=0.0.53->adlfs) (1.17.1)\r\nRequirement already satisfied: msal<2,>=1.16.0 in /anaconda/envs/azureml_py38/lib/python3.10/site-packages (from azure-datalake-store<0.1,>=0.0.53->adlfs) (1.31.2b1)\r\nRequirement already satisfied: cryptography>=2.1.4 in /anaconda/envs/azureml_py38/lib/python3.10/site-packages (from azure-storage-blob>=12.17.0->adlfs) (38.0.4)\r\nRequirement already satisfied: isodate>=0.6.1 in /anaconda/envs/azureml_py38/lib/python3.10/site-packages (from azure-storage-blob>=12.17.0->adlfs) (0.7.2)\r\nRequirement already satisfied: msal-extensions>=1.2.0 in /anaconda/envs/azureml_py38/lib/python3.10/site-packages (from azure-identity->adlfs) (1.2.0)\r\nRequirement already satisfied: pycparser in /anaconda/envs/azureml_py38/lib/python3.10/site-packages (from cffi->azure-datalake-store<0.1,>=0.0.53->adlfs) (2.22)\r\nRequirement already satisfied: PyJWT[crypto]<3,>=1.0.0 in /anaconda/envs/azureml_py38/lib/python3.10/site-packages (from msal<2,>=1.16.0->azure-datalake-store<0.1,>=0.0.53->adlfs) (2.4.0)\r\nRequirement already satisfied: portalocker<3,>=1.4 in /anaconda/envs/azureml_py38/lib/python3.10/site-packages (from msal-extensions>=1.2.0->azure-identity->adlfs) (2.10.1)\r\nRequirement already satisfied: urllib3<3,>=1.21.1 in /anaconda/envs/azureml_py38/lib/python3.10/site-packages (from requests>=2.21.0->azure-core<2.0.0,>=1.28.0->adlfs) (1.26.20)\r\nRequirement already satisfied: idna<4,>=2.5 in /anaconda/envs/azureml_py38/lib/python3.10/site-packages (from requests>=2.21.0->azure-core<2.0.0,>=1.28.0->adlfs) (3.10)\r\nRequirement already satisfied: certifi>=2017.4.17 in /anaconda/envs/azureml_py38/lib/python3.10/site-packages (from requests>=2.21.0->azure-core<2.0.0,>=1.28.0->adlfs) (2025.1.31)\r\nRequirement already satisfied: charset-normalizer<4,>=2 in /anaconda/envs/azureml_py38/lib/python3.10/site-packages (from requests>=2.21.0->azure-core<2.0.0,>=1.28.0->adlfs) (3.4.1)\r\n"
        }
      ],
      "execution_count": 1,
      "metadata": {
        "colab": {
          "base_uri": "https://localhost:8080/"
        },
        "id": "e2V3F2vDUwi6",
        "outputId": "4eb87e01-e074-4771-b03f-affbf3140e7b"
      }
    },
    {
      "cell_type": "markdown",
      "source": [
        "#### IMPORTS"
      ],
      "metadata": {
        "id": "1wS-JMZwcAv0"
      }
    },
    {
      "cell_type": "code",
      "source": [
        "# Basics\n",
        "import pandas as pd\n",
        "import numpy as np\n",
        "import matplotlib.pyplot as plt\n",
        "import yaml\n",
        "import random\n",
        "import plotly.express as px\n",
        "import joblib\n",
        "from datetime import timedelta\n",
        "from typing import List, Tuple, Dict,Optional\n",
        "import os\n",
        "import joblib\n",
        "from tensorflow.keras.models import save_model\n",
        "\n",
        "# Azure\n",
        "from adlfs import AzureBlobFileSystem\n",
        "\n",
        "from typing import Tuple, List, Optional\n",
        "import pandas as pd\n",
        "from sklearn.impute import SimpleImputer\n",
        "from sklearn.model_selection import train_test_split\n",
        "import pandas as pd\n",
        "\n",
        "\n",
        "# Models\n",
        "from sklearn.impute import SimpleImputer\n",
        "from sklearn.preprocessing import StandardScaler, MinMaxScaler,LabelEncoder\n",
        "from sklearn.base import TransformerMixin\n",
        "from sklearn.model_selection import train_test_split,GridSearchCV\n",
        "from sklearn.naive_bayes import GaussianNB\n",
        "from sklearn.metrics import accuracy_score, f1_score, roc_auc_score, confusion_matrix, roc_curve, auc ,  precision_score, recall_score\n",
        "from tensorflow.keras.metrics import AUC, Precision, Recall\n",
        "from sklearn.utils import class_weight\n",
        "\n",
        "import tensorflow as tf\n",
        "\n",
        "from tensorflow.keras.models import Sequential\n",
        "from tensorflow.keras.layers import LSTM, Dense, Dropout, GRU,Bidirectional,BatchNormalization\n",
        "from tensorflow.keras.callbacks import EarlyStopping\n",
        "from sklearn.model_selection import train_test_split\n",
        "from tensorflow.keras.optimizers import Adam\n",
        "from tensorflow.keras.losses import BinaryCrossentropy\n",
        "from tensorflow.keras.metrics import AUC, Precision, Recall\n",
        "from keras_tuner import RandomSearch\n",
        "\n",
        "os.environ[\"CUDA_VISIBLE_DEVICES\"] = \"-1\"\n"
      ],
      "outputs": [
        {
          "output_type": "stream",
          "name": "stderr",
          "text": "2025-06-24 11:02:57.160269: I tensorflow/core/platform/cpu_feature_guard.cc:193] This TensorFlow binary is optimized with oneAPI Deep Neural Network Library (oneDNN) to use the following CPU instructions in performance-critical operations:  AVX2 AVX512F AVX512_VNNI FMA\nTo enable them in other operations, rebuild TensorFlow with the appropriate compiler flags.\n2025-06-24 11:02:57.303808: I tensorflow/core/util/port.cc:104] oneDNN custom operations are on. You may see slightly different numerical results due to floating-point round-off errors from different computation orders. To turn them off, set the environment variable `TF_ENABLE_ONEDNN_OPTS=0`.\n2025-06-24 11:02:57.308127: W tensorflow/compiler/xla/stream_executor/platform/default/dso_loader.cc:64] Could not load dynamic library 'libcudart.so.11.0'; dlerror: libcudart.so.11.0: cannot open shared object file: No such file or directory\n2025-06-24 11:02:57.308148: I tensorflow/compiler/xla/stream_executor/cuda/cudart_stub.cc:29] Ignore above cudart dlerror if you do not have a GPU set up on your machine.\n2025-06-24 11:02:58.029271: W tensorflow/compiler/xla/stream_executor/platform/default/dso_loader.cc:64] Could not load dynamic library 'libnvinfer.so.7'; dlerror: libnvinfer.so.7: cannot open shared object file: No such file or directory\n2025-06-24 11:02:58.029393: W tensorflow/compiler/xla/stream_executor/platform/default/dso_loader.cc:64] Could not load dynamic library 'libnvinfer_plugin.so.7'; dlerror: libnvinfer_plugin.so.7: cannot open shared object file: No such file or directory\n2025-06-24 11:02:58.029403: W tensorflow/compiler/tf2tensorrt/utils/py_utils.cc:38] TF-TRT Warning: Cannot dlopen some TensorRT libraries. If you would like to use Nvidia GPU with TensorRT, please make sure the missing libraries mentioned above are installed properly.\n"
        }
      ],
      "execution_count": 1,
      "metadata": {
        "id": "LBwAr_3QsEcR",
        "gather": {
          "logged": 1750762980170
        }
      }
    },
    {
      "cell_type": "code",
      "source": [
        "\n",
        "def load_data_from_dl(account_name: str,container_name: str,relative_path: str,access_key: str)->pd.DataFrame:\n",
        "    \"\"\"\n",
        "    Loads all Parquet files from an Azure Blob Storage path into a single DataFrame.\n",
        "    Args:\n",
        "        - account_name (str): Azure Storage account name.\n",
        "        - container_name (str): Name of the container.\n",
        "        - relative_path (str): Path inside the container to search for .parquet files.\n",
        "        - access_key (str): Storage account access key.\n",
        "    Returns:\n",
        "        - df (pd.DataFrame): Combined DataFrame from all found Parquet files.\n",
        "    Raises:\n",
        "        - ValueError: If no Parquet files are found in the path.\n",
        "    \"\"\"\n",
        "    abfs = AzureBlobFileSystem(account_name=account_name, account_key=access_key)\n",
        "\n",
        "\n",
        "    all_files = abfs.glob(f\"{container_name}/{relative_path}/*.parquet\")\n",
        "    print(f\"folder: {all_files}\")\n",
        "\n",
        "    if not all_files:\n",
        "        raise ValueError(\"Not found .parquet files\")\n",
        "\n",
        "    dfs = []\n",
        "    for f in all_files:\n",
        "        print(f\"Reading files: {f}\")\n",
        "        with abfs.open(f, \"rb\") as fp:\n",
        "            dfs.append(pd.read_parquet(fp))\n",
        "\n",
        "    df = pd.concat(dfs, ignore_index=True)\n",
        "    print(df.head())\n",
        "    return df"
      ],
      "outputs": [],
      "execution_count": 2,
      "metadata": {
        "gather": {
          "logged": 1750762983460
        }
      }
    },
    {
      "cell_type": "code",
      "source": [
        "def model_evaluation(\n",
        "    y_test: pd.Series,\n",
        "    y_pred: pd.Series,\n",
        "    y_prob: pd.Series\n",
        ") -> Tuple[float, float, float, np.ndarray, float, float]:\n",
        "    \"\"\"\n",
        "    Evaluates the classification model and plots metrics.\n",
        "\n",
        "    Args:\n",
        "        y_test (pd.Series): True target values.\n",
        "        y_pred (pd.Series): Predicted class values.\n",
        "        y_prob (pd.Series): Predicted probabilities for class 1.\n",
        "\n",
        "    Returns:\n",
        "        Tuple containing Accuracy, F1 Score, ROC AUC, Confusion Matrix, Precision, Recall.\n",
        "    \"\"\"\n",
        "    acc = accuracy_score(y_test, y_pred)\n",
        "    f1 = f1_score(y_test, y_pred)\n",
        "    roc = roc_auc_score(y_test, y_prob)\n",
        "    cm = confusion_matrix(y_test, y_pred)\n",
        "    precision = precision_score(y_test, y_pred)\n",
        "    recall = recall_score(y_test, y_pred)\n",
        "\n",
        "    print(f\"Accuracy: {acc:.4f}\")\n",
        "    print(f\"F1 Score: {f1:.4f}\")\n",
        "    print(f\"ROC AUC: {roc:.4f}\")\n",
        "    print(f\"Confusion Matrix:\\n{cm}\")\n",
        "    print(f\"Precision: {precision:.4f}\")\n",
        "    print(f\"Recall: {recall:.4f}\")\n",
        "\n",
        "    fig, ax = plt.subplots(figsize=(5, 4))\n",
        "    cax = ax.matshow(cm, cmap='Blues')\n",
        "    fig.colorbar(cax)\n",
        "    ax.set_xticks([0, 1])\n",
        "    ax.set_yticks([0, 1])\n",
        "    ax.set_xticklabels(['No', 'Yes'])\n",
        "    ax.set_yticklabels(['No', 'Yes'])\n",
        "    ax.set_xlabel(\"Predicted\")\n",
        "    ax.set_ylabel(\"Actual\")\n",
        "    plt.title(\"Confusion Matrix\")\n",
        "    plt.tight_layout()\n",
        "    plt.show()\n",
        "\n",
        "    fpr, tpr, _ = roc_curve(y_test, y_prob)\n",
        "    roc_auc = auc(fpr, tpr)\n",
        "\n",
        "    plt.figure(figsize=(6, 4))\n",
        "    plt.plot(fpr, tpr, label=f'ROC curve (AUC = {roc_auc:.2f})')\n",
        "    plt.plot([0, 1], [0, 1], 'k--', lw=1)\n",
        "    plt.xlabel(\"False Positive Rate\")\n",
        "    plt.ylabel(\"True Positive Rate\")\n",
        "    plt.title(\"ROC Curve\")\n",
        "    plt.legend()\n",
        "    plt.grid(True)\n",
        "    plt.tight_layout()\n",
        "    plt.show()\n",
        "\n",
        "    return acc, f1, roc, cm, precision, recall\n"
      ],
      "outputs": [],
      "execution_count": 3,
      "metadata": {
        "gather": {
          "logged": 1750762989271
        }
      }
    },
    {
      "cell_type": "code",
      "source": [
        "def clean_columns(df: pd.DataFrame) -> pd.DataFrame:\n",
        "  \"\"\"\n",
        "  Cleans a DataFrame by dropping unnecessary columns and handling missing values.\n",
        "\n",
        "  Args:\n",
        "      df (pd.DataFrame): Input DataFrame.\n",
        "\n",
        "  Returns:\n",
        "      pd.DataFrame: Cleaned DataFrame.\n",
        "  \"\"\"\n",
        "  columns_to_drop = [\n",
        "      'capital_gains',\n",
        "      'ret_next_3m', 'ret_next_6m', 'ret_next_1y',\n",
        "      'price_lead_3m', 'price_lead_6m', 'price_lead_1y',\n",
        "      'open_v', 'high', 'low', 'dividends', 'stock_splits',\n",
        "      'is_dividend_day', 'is_stock_split', 'gap_open', 'price_range',\n",
        "      'tr_1', 'tr_2', 'tr_3', 'sma_5', 'bollinger_upper',\n",
        "      'bollinger_lower', 'ema_12', 'macd_line'\n",
        "  ]\n",
        "\n",
        "\n",
        "  df = df.drop(columns=columns_to_drop, errors='ignore').copy()\n",
        "  numeric_cols = df.select_dtypes(include=[\"float64\", \"int64\", \"int32\"]).columns\n",
        "  imputer = SimpleImputer(strategy=\"mean\")\n",
        "  df[numeric_cols] = imputer.fit_transform(df[numeric_cols])\n",
        "  return df;"
      ],
      "outputs": [],
      "execution_count": 4,
      "metadata": {
        "gather": {
          "logged": 1750762989381
        }
      }
    },
    {
      "cell_type": "code",
      "source": [
        "def prepare_data_with_symbol_date(df: pd.DataFrame, targets: list):\n",
        "    \"\"\"\n",
        "    Prepares a DataFrame for LSTM modeling: encodes 'symbol', extracts 'date' features,\n",
        "    imputes missing values, and applies MinMax scaling.\n",
        "\n",
        "    Args:\n",
        "        df (pd.DataFrame): Input data with features + target + symbol + date.\n",
        "        targets (list): List of target column names.\n",
        "\n",
        "    Returns:\n",
        "        pd.DataFrame: Scaled dataframe with 'symbol' and 'date' incorporated as features.\n",
        "        MinMaxScaler: The fitted scaler object.\n",
        "    \"\"\"\n",
        "    df_clean = df.copy()\n",
        "\n",
        "    # Convert date and extract features\n",
        "    df_clean[\"date\"] = pd.to_datetime(df_clean[\"date\"], errors=\"coerce\")\n",
        "    df_clean[\"year\"] = df_clean[\"date\"].dt.year\n",
        "    df_clean[\"month\"] = df_clean[\"date\"].dt.month\n",
        "    df_clean[\"dayofweek\"] = df_clean[\"date\"].dt.dayofweek\n",
        "\n",
        "    date_col = df_clean[\"date\"]  # store datetime (not string)\n",
        "\n",
        "    # Encode symbol (remains numeric)\n",
        "    df_clean[\"symbol\"] = LabelEncoder().fit_transform(df_clean[\"symbol\"].astype(str))\n",
        "\n",
        "    # Drop original date before scaling\n",
        "    df_clean = df_clean.drop(columns=[\"date\"], errors=\"ignore\")\n",
        "\n",
        "    for col in df_clean.select_dtypes(include=[\"object\", \"category\"]).columns:\n",
        "        df_clean[col] = LabelEncoder().fit_transform(df_clean[col].astype(str))\n",
        "\n",
        "    feature_cols = [col for col in df_clean.columns if col not in targets]\n",
        "    X = df_clean[feature_cols]\n",
        "    y = df_clean[targets]\n",
        "\n",
        "    imputer = SimpleImputer(strategy=\"mean\")\n",
        "    X_imputed = imputer.fit_transform(X)\n",
        "    scaler = MinMaxScaler()\n",
        "    X_scaled = scaler.fit_transform(X_imputed)\n",
        "\n",
        "    df_scaled = pd.DataFrame(X_scaled, columns=feature_cols, index=df_clean.index)\n",
        "    df_scaled = pd.concat([df_scaled, y], axis=1)\n",
        "\n",
        "    # Reattach encoded symbol and original date\n",
        "    df_scaled[\"symbol\"] = df_clean[\"symbol\"].values\n",
        "    df_scaled[\"date\"] = date_col.values\n",
        "\n",
        "    print(f\"columnas scaler: {X.columns}\")\n",
        "    return df_scaled, scaler\n"
      ],
      "outputs": [],
      "execution_count": 5,
      "metadata": {
        "gather": {
          "logged": 1750762989469
        }
      }
    },
    {
      "cell_type": "code",
      "source": [
        "def train_improved_lstm_classifier(\n",
        "    X_train,\n",
        "    X_test,\n",
        "    y_train,\n",
        "    y_test,\n",
        "    sequence_length=120,\n",
        "    epochs=30,\n",
        "    batch_size=32,\n",
        "    patience=6,\n",
        "    learning_rate=1e-4,\n",
        "    threshold=0.5,\n",
        "    class_weight=None\n",
        "):\n",
        "    \"\"\"\n",
        "    Trains a bidirectional LSTM classifier with dropout, batch normalization, and threshold tuning.\n",
        "\n",
        "    Args:\n",
        "        X_train, X_test: Input sequences\n",
        "        y_train, y_test: Labels\n",
        "        sequence_length (int): Number of timesteps per sequence\n",
        "        epochs (int): Max epochs\n",
        "        batch_size (int): Training batch size\n",
        "        patience (int): Early stopping patience\n",
        "        learning_rate (float): Optimizer learning rate\n",
        "        threshold (float): Threshold to binarize output\n",
        "        class_weight (dict): Optional class weights\n",
        "\n",
        "    Returns:\n",
        "        model: Trained Keras model\n",
        "        X_test, y_test: Evaluation inputs\n",
        "        y_prob: Predicted probabilities\n",
        "        y_pred: Binary predictions based on threshold\n",
        "    \"\"\"\n",
        "    model = Sequential([\n",
        "        Bidirectional(LSTM(64, return_sequences=True), input_shape=(X_train.shape[1], X_train.shape[2])),\n",
        "        BatchNormalization(),\n",
        "        Dropout(0.4),\n",
        "        Bidirectional(LSTM(32, return_sequences=False)),\n",
        "        BatchNormalization(),\n",
        "        Dropout(0.4),\n",
        "        Dense(64, activation='relu'),\n",
        "        Dropout(0.3),\n",
        "        Dense(1, activation='sigmoid')\n",
        "    ])\n",
        "\n",
        "    model.compile(\n",
        "        optimizer=Adam(learning_rate=learning_rate),\n",
        "        loss=BinaryCrossentropy(),\n",
        "        metrics=['accuracy', AUC(name='auc'), Precision(name='precision'), Recall(name='recall')]\n",
        "    )\n",
        "\n",
        "    early_stop = EarlyStopping(\n",
        "        monitor='val_auc',\n",
        "        mode='max',\n",
        "        patience=patience,\n",
        "        restore_best_weights=True\n",
        "    )\n",
        "\n",
        "    model.fit(\n",
        "        X_train, y_train,\n",
        "        validation_data=(X_test, y_test),\n",
        "        epochs=epochs,\n",
        "        batch_size=batch_size,\n",
        "        callbacks=[early_stop],\n",
        "        verbose=1,\n",
        "        class_weight=class_weight\n",
        "    )\n",
        "\n",
        "    y_prob = model.predict(X_test).flatten()\n",
        "    y_pred = (y_prob > threshold).astype(int)\n",
        "\n",
        "    return model, X_test, y_test, y_prob, y_pred\n"
      ],
      "outputs": [],
      "execution_count": 6,
      "metadata": {
        "gather": {
          "logged": 1750762989599
        }
      }
    },
    {
      "cell_type": "code",
      "source": [
        "def save_trained_model_and_scaler(model, scaler, feature_cols, model_name, target_column, folder_path='pkls'):\n",
        "    \"\"\"\n",
        "    Saves the trained LSTM model, fitted scaler, and feature column list to disk.\n",
        "\n",
        "    Args:\n",
        "        model: Trained Keras model to be saved.\n",
        "        scaler: Fitted MinMaxScaler object used during preprocessing.\n",
        "        feature_cols (list): List of feature column names used for training.\n",
        "        model_name (str): Name identifier for the model (used in filenames).\n",
        "        target_column (str): Target column the model was trained to predict.\n",
        "        folder_path (str): Directory path to save model, scaler, and feature list (default is 'pkls').\n",
        "\n",
        "    Returns:\n",
        "        None\n",
        "    \"\"\"\n",
        "    os.makedirs(folder_path, exist_ok=True)\n",
        "    save_model(model, os.path.join(folder_path, f\"{model_name}.keras\"))\n",
        "    joblib.dump(scaler, os.path.join(folder_path, f\"scaler_{model_name}.pkl\"))\n",
        "    joblib.dump(feature_cols, os.path.join(folder_path, f\"features_{model_name}.pkl\"))\n",
        "    print(f\"model saved in : {model_name}.keras\")\n",
        "    print(f\"Scaler saved in: scaler_{model_name}.pkl\")\n",
        "    print(f\"Features saved in: features_{model_name}.pkl\")"
      ],
      "outputs": [],
      "execution_count": 7,
      "metadata": {
        "gather": {
          "logged": 1750762989698
        }
      }
    },
    {
      "cell_type": "code",
      "source": [
        "import sys\n",
        "def build_and_split_sequences_by_symbol(\n",
        "    df: pd.DataFrame,\n",
        "    target_column: str,\n",
        "    sequence_length: int = 60,\n",
        "    test_size: float = 0.2\n",
        "):\n",
        "    \"\"\"\n",
        "    Builds sequential data for each symbol independently and performs temporal train-test split.\n",
        "\n",
        "    Args:\n",
        "        df (pd.DataFrame): Preprocessed DataFrame with features, target, 'symbol' and 'date'.\n",
        "        target_column (str): Column name for binary target.\n",
        "        sequence_length (int): Time window for each sequence.\n",
        "        test_size (float): Proportion of test samples (applied per symbol).\n",
        "\n",
        "    Returns:\n",
        "        Tuple of numpy arrays: X_train, X_test, y_train, y_test\n",
        "    \"\"\"\n",
        "    X_train, y_train, X_test, y_test = [], [], [], []\n",
        "\n",
        "    symbols = df[\"symbol\"].unique()\n",
        "    for symbol in symbols:\n",
        "        df_symbol = df[df[\"symbol\"] == symbol].copy()\n",
        "        df_symbol = df_symbol.sort_values(\"date\")\n",
        "\n",
        "        if len(df_symbol) <= sequence_length:\n",
        "            continue  # Skip if not enough data\n",
        "\n",
        "        df_symbol[target_column] = df_symbol[target_column].astype(int)\n",
        "        features = df_symbol.drop(\n",
        "            columns=[\"date\", \"target_3m\", \"target_6m\", \"target_1y\"],\n",
        "            errors=\"ignore\"\n",
        "        )\n",
        "\n",
        "        target = df_symbol[target_column].values\n",
        "\n",
        "        split_idx = int(len(features) * (1 - test_size))\n",
        "        for i in range(len(features) - sequence_length):\n",
        "            if i + sequence_length >= len(features):\n",
        "                continue\n",
        "\n",
        "            X_seq = features.iloc[i:i + sequence_length].values.astype(np.float32)\n",
        "            y_val = target[i + sequence_length]\n",
        "\n",
        "            if i + sequence_length < split_idx:\n",
        "                X_train.append(X_seq)\n",
        "                y_train.append(y_val)\n",
        "            else:\n",
        "                X_test.append(X_seq)\n",
        "                y_test.append(y_val)\n",
        "\n",
        "    return (\n",
        "        np.array(X_train),\n",
        "        np.array(X_test),\n",
        "        np.array(y_train),\n",
        "        np.array(y_test)\n",
        "    )\n"
      ],
      "outputs": [],
      "execution_count": 8,
      "metadata": {
        "gather": {
          "logged": 1750762989798
        }
      }
    },
    {
      "cell_type": "markdown",
      "source": [
        "#### FUNCTIONS"
      ],
      "metadata": {
        "id": "b1bBHtKRcHMD"
      }
    },
    {
      "cell_type": "code",
      "source": [
        "with open(\"config.yaml\", \"r\") as file:\n",
        "    config = yaml.safe_load(file)\n",
        "\n",
        "account_name = config['storage']['storage_account_name']\n",
        "container_name = config['storage']['container_name']\n",
        "relative_path = config['storage']['relative_path']\n",
        "access_key = config['storage']['access_key']\n",
        "# Cargar el DataFrame desde Azure\n",
        "df_full = load_data_from_dl(account_name, container_name, relative_path, access_key)\n"
      ],
      "outputs": [
        {
          "output_type": "stream",
          "name": "stdout",
          "text": "folder: ['smart-wallet-dl/smart_wallet/stock_data_parquet/part-00000-tid-6319656906602864551-70988dce-8c71-437f-9993-81d0d24559f8-53-1-c000.snappy.parquet']\nReading files: smart-wallet-dl/smart_wallet/stock_data_parquet/part-00000-tid-6319656906602864551-70988dce-8c71-437f-9993-81d0d24559f8-53-1-c000.snappy.parquet\n         date  symbol      open_v        high         low     close_v  \\\n0  2023-07-25  TEL.OL   99.110617   99.423126   98.128441   98.128441   \n1  2023-07-25    ACIW   23.270000   23.530001   23.129999   23.420000   \n2  2023-07-25     TER  114.730270  117.172184  114.730270  116.368141   \n3  2023-07-25    ADCT    1.320000    1.330000    1.218000    1.290000   \n4  2023-07-25     TEX   59.353587   59.490459   57.574251   57.769783   \n\n      volume  dividends  stock_splits  capital_gains  ...  candle_color  \\\n0  1170518.0        0.0           0.0            NaN  ...           red   \n1   301500.0        0.0           0.0            NaN  ...         green   \n2  1256700.0        0.0           0.0            NaN  ...         green   \n3   811000.0        0.0           0.0            NaN  ...           red   \n4  1135700.0        0.0           0.0            NaN  ...           red   \n\n   momentum_10    roc_10    var_95  price_lead_3m  price_lead_6m  \\\n0     3.928711  0.041706 -0.016775     107.443146     113.383850   \n1     0.799999  0.035367 -0.031123      20.730000      30.410000   \n2     7.752586  0.071376 -0.020835      90.344109     110.100044   \n3    -0.560000 -0.302703 -0.068702       0.703000       2.100000   \n4    -1.759781 -0.029561 -0.032505      46.451183      56.749165   \n\n   price_lead_1y  ret_next_3m  ret_next_6m  ret_next_1y  \n0     125.240135     0.094924     0.155464     0.276288  \n1      42.599998    -0.114859     0.298463     0.818958  \n2     123.952568    -0.223635    -0.053864     0.065176  \n3       3.820000    -0.455039     0.627907     1.961240  \n4      65.014771    -0.195926    -0.017667     0.125411  \n\n[5 rows x 53 columns]\n"
        }
      ],
      "execution_count": 9,
      "metadata": {
        "colab": {
          "base_uri": "https://localhost:8080/"
        },
        "collapsed": true,
        "id": "m3SjUzg1JN-A",
        "outputId": "bf6569d2-1d83-4769-ee58-3f5f127dd485",
        "gather": {
          "logged": 1750763039516
        }
      }
    },
    {
      "cell_type": "code",
      "source": [
        "df_full[\"target_3m\"] = (df_full[\"ret_next_3m\"] > 0.05).astype(int)\n",
        "df_full[\"target_6m\"] = (df_full[\"ret_next_6m\"] > 0.05).astype(int)\n",
        "df_full[\"target_1y\"] = (df_full[\"ret_next_1y\"] > 0.05).astype(int)\n",
        "# Selección de top 50 símbolos con más histórico\n",
        "top_symbols = (\n",
        "    df_full.groupby(\"symbol\")\n",
        "    .size()\n",
        "    .sort_values(ascending=False)\n",
        "    .head(50)\n",
        "    .index\n",
        ")\n",
        "df_clean = df_full[df_full[\"symbol\"].isin(top_symbols)].copy()\n",
        "df_clean = df_clean.sort_values(by=[\"symbol\", \"date\"])\n",
        "#df_clean.to_csv(\"1_df_clean_ordenado.csv\",sep=\";\")\n",
        "\n",
        "\n",
        "# Limpieza con imputación\n",
        "df_clean = clean_columns(df_clean)\n",
        "\n",
        "# Preprocesado (sin imputar aquí)\n",
        "targets = ['target_3m', 'target_6m', 'target_1y']\n",
        "df_processed_minmax, scaler_minmax = prepare_data_with_symbol_date(\n",
        "    df_clean,\n",
        "    targets=targets\n",
        ")\n",
        "\n",
        "\n",
        "# Secuenciado correcto por símbolo\n",
        "target_column = 'target_6m'\n",
        "sequence_length = 60\n",
        "X_train, X_test, y_train, y_test = build_and_split_sequences_by_symbol(\n",
        "    df_processed_minmax,\n",
        "    target_column=target_column,\n",
        "    sequence_length=sequence_length,\n",
        "    test_size=0.2\n",
        ")\n",
        "\n",
        "# Pesos balanceados\n",
        "weights = class_weight.compute_class_weight(\n",
        "    class_weight='balanced',\n",
        "    classes=np.array([0, 1]),\n",
        "    y=y_train.flatten()\n",
        ")\n",
        "weight_dict = {0: weights[0], 1: weights[1]}\n",
        "\n",
        "# Entrenamiento\n",
        "model, X_test, y_test, y_prob, y_pred = train_improved_lstm_classifier(\n",
        "    X_train=X_train,\n",
        "    X_test=X_test,\n",
        "    y_train=y_train,\n",
        "    y_test=y_test,\n",
        "    sequence_length=sequence_length,\n",
        "    class_weight=weight_dict\n",
        ")\n",
        "\n",
        "# Evaluación\n",
        "model_evaluation(\n",
        "    y_test=pd.Series(y_test),\n",
        "    y_pred=pd.Series(y_pred),\n",
        "    y_prob=pd.Series(y_prob)\n",
        ")\n"
      ],
      "outputs": [
        {
          "output_type": "stream",
          "name": "stdout",
          "text": "columnas scaler: Index(['symbol', 'close_v', 'volume', 'prev_close', 'prev_volume',\n       'daily_return', 'close_change_pct', 'intraday_volatility', 'log_return',\n       'volume_change_pct', 'sma_20', 'delta', 'gain', 'loss', 'rsi_14',\n       'rel_volume', 'ema_26', 'macd_signal', 'macd_histogram', 'true_range',\n       'atr_14', 'candle_body', 'upper_wick', 'lower_wick', 'candle_color',\n       'momentum_10', 'roc_10', 'var_95', 'year', 'month', 'dayofweek'],\n      dtype='object')\nEpoch 1/30\n8043/8043 [==============================] - 714s 88ms/step - loss: 0.7300 - accuracy: 0.5064 - auc: 0.5086 - precision: 0.4826 - recall: 0.5060 - val_loss: 0.6967 - val_accuracy: 0.5218 - val_auc: 0.4959 - val_precision: 0.5141 - val_recall: 0.4435\b\b\b\b\b\b\b\b\b\b\b\b\b\b\b\b\b\b\b\b\b\b\b\b\b\b\b\b\b\b\b\b\b\b\b\b\b\nEpoch 2/30\n8043/8043 [==============================] - 707s 88ms/step - loss: 0.6968 - accuracy: 0.5107 - auc: 0.5181 - precision: 0.4871 - recall: 0.5181 - val_loss: 0.6957 - val_accuracy: 0.4960 - val_auc: 0.4974 - val_precision: 0.4909 - val_recall: 0.7691\b\b\b\b\b\b\b\b\b\b\b\b\b\b\b\b\b\b\b\b\b\b\b\b\b\b\b\b\b\b\b\nEpoch 3/30\n8043/8043 [==============================] - 717s 89ms/step - loss: 0.6910 - accuracy: 0.5215 - auc: 0.5363 - precision: 0.4979 - recall: 0.5576 - val_loss: 0.6973 - val_accuracy: 0.4879 - val_auc: 0.5061 - val_precision: 0.4871 - val_recall: 0.8460\b\b\b\b\b\b\b\b\b\b\b\b\b\b\b\b\b\b\b\b\b\b\b\b\b\b\b\b\b\b\b\nEpoch 4/30\n8043/8043 [==============================] - 715s 89ms/step - loss: 0.6841 - accuracy: 0.5428 - auc: 0.5698 - precision: 0.5165 - recall: 0.6267 - val_loss: 0.6957 - val_accuracy: 0.5118 - val_auc: 0.5370 - val_precision: 0.5037 - val_recall: 0.2668\b\b\b\b\b\b\b\b\b\b\b\b\b\b\b\b\b\b\b\b\b\b\b\b\b\b\b\b\b\b\b\nEpoch 5/30\n8043/8043 [==============================] - 723s 90ms/step - loss: 0.6755 - accuracy: 0.5651 - auc: 0.6013 - precision: 0.5366 - recall: 0.6365 - val_loss: 0.7042 - val_accuracy: 0.5039 - val_auc: 0.4867 - val_precision: 0.4877 - val_recall: 0.2436\b\b\b\b\b\b\b\b\b\b\b\b\b\b\b\b\b\b\b\b\b\b\b\b\b\b\b\b\b\b\b\nEpoch 6/30\n8043/8043 [==============================] - 721s 90ms/step - loss: 0.6693 - accuracy: 0.5748 - auc: 0.6163 - precision: 0.5490 - recall: 0.6002 - val_loss: 0.7027 - val_accuracy: 0.5062 - val_auc: 0.5099 - val_precision: 0.4915 - val_recall: 0.2162\b\b\b\b\b\b\b\b\b\b\b\b\b\b\b\b\b\b\b\b\b\b\b\b\b\b\b\b\b\b\b\nEpoch 7/30\n8043/8043 [==============================] - 723s 90ms/step - loss: 0.6628 - accuracy: 0.5872 - auc: 0.6321 - precision: 0.5633 - recall: 0.5925 - val_loss: 0.7093 - val_accuracy: 0.5019 - val_auc: 0.4968 - val_precision: 0.4903 - val_recall: 0.4118\b\b\b\b\b\b\b\b\b\b\b\b\b\b\b\b\b\b\b\b\b\b\b\b\b\b\b\b\b\b\b\nEpoch 8/30\n8043/8043 [==============================] - 732s 91ms/step - loss: 0.6542 - accuracy: 0.6039 - auc: 0.6530 - precision: 0.5804 - recall: 0.6079 - val_loss: 0.7102 - val_accuracy: 0.5239 - val_auc: 0.5089 - val_precision: 0.5228 - val_recall: 0.3275\b\b\b\b\b\b\b\b\b\b\b\b\b\b\b\b\b\b\b\b\b\b\b\b\b\b\b\b\b\b\b\nEpoch 9/30\n8043/8043 [==============================] - 734s 91ms/step - loss: 0.6425 - accuracy: 0.6243 - auc: 0.6766 - precision: 0.6028 - recall: 0.6188 - val_loss: 0.7095 - val_accuracy: 0.5378 - val_auc: 0.5232 - val_precision: 0.5400 - val_recall: 0.3842\b\b\b\b\b\b\b\b\b\b\b\b\b\b\b\b\b\b\b\b\b\b\b\b\b\b\b\b\b\b\b\nEpoch 10/30\n8043/8043 [==============================] - 729s 91ms/step - loss: 0.6306 - accuracy: 0.6397 - auc: 0.6964 - precision: 0.6192 - recall: 0.6325 - val_loss: 0.7278 - val_accuracy: 0.5217 - val_auc: 0.5159 - val_precision: 0.5279 - val_recall: 0.2273\b\b\b\b\b\b\b\b\b\b\b\b\b\b\b\b\b\b\b\b\b\b\b\b\b\b\b\b\b\b\b\n2036/2036 [==============================] - 52s 25ms/step\b\b\b\b\b\b\b\b\b\b\b\b\b\b\b\b\b\b\b\b\b\b\b\b\b\b\b\b\b\b\b\b\b\b\b\b\b\b\b\b\b\b\b\b\b\b\b\b\b\b\b\b\nAccuracy: 0.5118\nF1 Score: 0.3488\nROC AUC: 0.5386\nConfusion Matrix:\n[[24818  8391]\n [23405  8515]]\nPrecision: 0.5037\nRecall: 0.2668\n"
        },
        {
          "output_type": "stream",
          "name": "stderr",
          "text": "2025-06-24 11:04:25.358901: E tensorflow/compiler/xla/stream_executor/cuda/cuda_driver.cc:267] failed call to cuInit: CUDA_ERROR_NO_DEVICE: no CUDA-capable device is detected\n2025-06-24 11:04:25.358965: I tensorflow/compiler/xla/stream_executor/cuda/cuda_diagnostics.cc:156] kernel driver does not appear to be running on this host (jorgegarciaotero1): /proc/driver/nvidia/version does not exist\n2025-06-24 11:04:25.360018: I tensorflow/core/platform/cpu_feature_guard.cc:193] This TensorFlow binary is optimized with oneAPI Deep Neural Network Library (oneDNN) to use the following CPU instructions in performance-critical operations:  AVX2 AVX512F AVX512_VNNI FMA\nTo enable them in other operations, rebuild TensorFlow with the appropriate compiler flags.\n"
        },
        {
          "output_type": "display_data",
          "data": {
            "text/plain": "<Figure size 500x400 with 2 Axes>",
            "image/png": "[encoded data removed]"
          },
          "metadata": {}
        },
        {
          "output_type": "display_data",
          "data": {
            "text/plain": "<Figure size 600x400 with 1 Axes>",
            "image/png": "[encoded data removed]"
          },
          "metadata": {}
        },
        {
          "output_type": "execute_result",
          "execution_count": 10,
          "data": {
            "text/plain": "(0.5117996591380184,\n 0.3487895793224921,\n 0.5385964327392301,\n array([[24818,  8391],\n        [23405,  8515]]),\n 0.5036673370401041,\n 0.2667606516290727)"
          },
          "metadata": {}
        }
      ],
      "execution_count": 10,
      "metadata": {
        "gather": {
          "logged": 1750770336234
        }
      }
    },
    {
      "cell_type": "code",
      "source": [
        "feature_cols = df_clean.columns\n",
        "feature_cols = [col for col in feature_cols if not col.startswith(\"target_\")]\n",
        "print(len(feature_cols))\n",
        "model_name = \"improved_lstm\"\n",
        "save_trained_model_and_scaler(model, scaler_minmax, feature_cols, model_name, \"target_6m\")\n"
      ],
      "outputs": [
        {
          "output_type": "stream",
          "name": "stdout",
          "text": "29\nmodel saved in : improved_lstm.keras\nScaler saved in: scaler_improved_lstm.pkl\nFeatures saved in: features_improved_lstm.pkl\n"
        }
      ],
      "execution_count": 11,
      "metadata": {
        "gather": {
          "logged": 1750770336543
        }
      }
    }
  ],
  "metadata": {
    "accelerator": "GPU",
    "colab": {
      "gpuType": "L4",
      "provenance": []
    },
    "kernelspec": {
      "name": "python3",
      "language": "python",
      "display_name": "Python 3 (ipykernel)"
    },
    "language_info": {
      "name": "python",
      "version": "3.10.16",
      "mimetype": "text/x-python",
      "codemirror_mode": {
        "name": "ipython",
        "version": 3
      },
      "pygments_lexer": "ipython3",
      "nbconvert_exporter": "python",
      "file_extension": ".py"
    },
    "microsoft": {
      "ms_spell_check": {
        "ms_spell_check_language": "es"
      },
      "host": {
        "AzureML": {
          "notebookHasBeenCompleted": true
        }
      }
    },
    "nteract": {
      "version": "nteract-front-end@1.0.0"
    },
    "kernel_info": {
      "name": "python3"
    }
  },
  "nbformat": 4,
  "nbformat_minor": 0
}